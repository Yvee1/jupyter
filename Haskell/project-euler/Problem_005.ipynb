{
 "cells": [
  {
   "cell_type": "markdown",
   "metadata": {},
   "source": [
    "# Smallest multiple"
   ]
  },
  {
   "cell_type": "markdown",
   "metadata": {},
   "source": [
    "### Problem 3, prime factor functions"
   ]
  },
  {
   "cell_type": "code",
   "execution_count": 1,
   "metadata": {},
   "outputs": [],
   "source": [
    "gsieve :: [Int] -> (Int, [Int])\n",
    "gsieve [] = (-1, [])\n",
    "gsieve (x: rest) = (x, filter ((/= 0) . (`mod` x)) rest)"
   ]
  },
  {
   "cell_type": "code",
   "execution_count": 2,
   "metadata": {},
   "outputs": [],
   "source": [
    "sieve :: Int -> [Int]\n",
    "sieve 0 = []\n",
    "sieve 1 = []\n",
    "sieve 2 = [2]\n",
    "sieve m = go [2..m]\n",
    "  where \n",
    "    go xs = \n",
    "      let (p, rest) = gsieve xs\n",
    "      in if p == -1\n",
    "        then []\n",
    "        else p : go rest"
   ]
  },
  {
   "cell_type": "code",
   "execution_count": 3,
   "metadata": {},
   "outputs": [],
   "source": [
    "headMaybe :: [a] -> Maybe a\n",
    "headMaybe [] = Nothing\n",
    "headMaybe xs = Just $ head xs"
   ]
  },
  {
   "cell_type": "code",
   "execution_count": 4,
   "metadata": {},
   "outputs": [],
   "source": [
    "smallestPrimeFactor :: Int -> Maybe Int\n",
    "smallestPrimeFactor n =\n",
    "  let primes = sieve n\n",
    "  in headMaybe [p | p <- primes, n `mod` p == 0]"
   ]
  },
  {
   "cell_type": "code",
   "execution_count": 5,
   "metadata": {},
   "outputs": [],
   "source": [
    "primeFactors :: Int -> [Int]\n",
    "primeFactors n = \n",
    "  let mp = smallestPrimeFactor n\n",
    "  in case mp of\n",
    "    Nothing -> []\n",
    "    Just p  -> \n",
    "      let n' = n `div` p\n",
    "      in p : primeFactors n'"
   ]
  },
  {
   "cell_type": "markdown",
   "metadata": {},
   "source": [
    "### Problem 5"
   ]
  },
  {
   "cell_type": "code",
   "execution_count": 6,
   "metadata": {},
   "outputs": [],
   "source": [
    "multisetSorted :: Eq a => [a] -> [(a, Int)]\n",
    "multisetSorted = reverse . gmultiset [] 0\n",
    "  where gmultiset xs _ [] = xs\n",
    "        gmultiset xs n [y] = (y, n + 1) : xs\n",
    "        gmultiset xs n (y : y' : ys) = \n",
    "          if y == y'\n",
    "            then gmultiset xs (n+1) (y' : ys)\n",
    "            else gmultiset ((y, n+1) : xs) 0 (y' : ys)"
   ]
  },
  {
   "cell_type": "code",
   "execution_count": 7,
   "metadata": {},
   "outputs": [],
   "source": [
    "unionMax :: Ord a => [(a, Int)] -> [(a, Int)] -> [(a, Int)]\n",
    "unionMax a b = reverse $ gUnionMax [] a b\n",
    "  where\n",
    "    gUnionMax zs [] [] = zs\n",
    "    gUnionMax zs xs [] = reverse xs ++ zs\n",
    "    gUnionMax zs [] ys = reverse ys ++ zs\n",
    "    gUnionMax zs xs'@((x, xn) : xs) ys'@((y, yn) : ys)\n",
    "      | x < y     = gUnionMax ((x, xn) : zs) xs ys'\n",
    "      | x > y     = gUnionMax ((y, yn) : zs) xs' ys\n",
    "      | otherwise = gUnionMax ((x, max xn yn) : zs) xs ys "
   ]
  },
  {
   "cell_type": "code",
   "execution_count": 8,
   "metadata": {},
   "outputs": [],
   "source": [
    "smallestMultiple :: [Int] -> Int\n",
    "smallestMultiple = foldr (\\(x, n) b -> x^n * b) 1 \n",
    "                 . foldr (unionMax . multisetSorted . primeFactors) []"
   ]
  },
  {
   "cell_type": "code",
   "execution_count": 9,
   "metadata": {},
   "outputs": [
    {
     "data": {
      "text/plain": [
       "232792560"
      ]
     },
     "metadata": {},
     "output_type": "display_data"
    }
   ],
   "source": [
    "smallestMultiple [1..20]"
   ]
  },
  {
   "cell_type": "code",
   "execution_count": null,
   "metadata": {},
   "outputs": [],
   "source": []
  }
 ],
 "metadata": {
  "kernelspec": {
   "display_name": "Haskell - haskell",
   "language": "haskell",
   "name": "ihaskell_haskell"
  },
  "language_info": {
   "codemirror_mode": "Haskell",
   "file_extension": ".hs",
   "mimetype": "text/x-haskell",
   "name": "haskell",
   "pygments_lexer": "Haskell",
   "version": "8.8.3"
  }
 },
 "nbformat": 4,
 "nbformat_minor": 4
}
