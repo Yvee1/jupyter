{
 "cells": [
  {
   "cell_type": "markdown",
   "metadata": {},
   "source": [
    "Used to add zero padding to file names; e.g. renaming \"Problem5.ipynb\" to \"Problem_005.ipynb\""
   ]
  },
  {
   "cell_type": "code",
   "execution_count": 1,
   "metadata": {},
   "outputs": [],
   "source": [
    "import System.Directory\n",
    "import Data.Char (isDigit)\n",
    "import Data.List (isPrefixOf)\n",
    "import Text.Printf (printf)"
   ]
  },
  {
   "cell_type": "code",
   "execution_count": 2,
   "metadata": {},
   "outputs": [
    {
     "data": {
      "text/plain": [
       "[\"Problem10.ipynb\",\"Problem_007.ipynb\",\"Problem_001.ipynb\",\"Problem_003.ipynb\",\"Problem_009.ipynb\",\"Problem_006.ipynb\",\"Problem_002.ipynb\",\"Problem_005.ipynb\",\"Problem_008.ipynb\",\"Problem_010.ipynb\",\"Problem_004.ipynb\"]"
      ]
     },
     "metadata": {},
     "output_type": "display_data"
    }
   ],
   "source": [
    "problems <- filter (\"Problem\" `isPrefixOf`) <$> (getCurrentDirectory >>= listDirectory)\n",
    "problems"
   ]
  },
  {
   "cell_type": "code",
   "execution_count": 3,
   "metadata": {},
   "outputs": [],
   "source": [
    "getProblemNum :: String -> Int\n",
    "getProblemNum = read . dropWhile (not . isDigit) . takeWhile (/= '.')"
   ]
  },
  {
   "cell_type": "code",
   "execution_count": 4,
   "metadata": {},
   "outputs": [
    {
     "data": {
      "text/plain": [
       "10"
      ]
     },
     "metadata": {},
     "output_type": "display_data"
    }
   ],
   "source": [
    "getProblemNum \"Problem10.ipynb\""
   ]
  },
  {
   "cell_type": "code",
   "execution_count": 5,
   "metadata": {},
   "outputs": [],
   "source": [
    "newName :: FilePath -> FilePath\n",
    "newName fname = \"Problem_\" <> printf \"%03d\" (getProblemNum fname) <> \".ipynb\""
   ]
  },
  {
   "cell_type": "code",
   "execution_count": 6,
   "metadata": {},
   "outputs": [
    {
     "data": {
      "text/plain": [
       "\"Problem_010.ipynb\""
      ]
     },
     "metadata": {},
     "output_type": "display_data"
    }
   ],
   "source": [
    "newName \"Problem10.ipynb\""
   ]
  },
  {
   "cell_type": "code",
   "execution_count": 7,
   "metadata": {},
   "outputs": [
    {
     "data": {
      "text/plain": [
       "[\"Problem_010.ipynb\",\"Problem_007.ipynb\",\"Problem_001.ipynb\",\"Problem_003.ipynb\",\"Problem_009.ipynb\",\"Problem_006.ipynb\",\"Problem_002.ipynb\",\"Problem_005.ipynb\",\"Problem_008.ipynb\",\"Problem_010.ipynb\",\"Problem_004.ipynb\"]"
      ]
     },
     "metadata": {},
     "output_type": "display_data"
    }
   ],
   "source": [
    "map newName problems"
   ]
  },
  {
   "cell_type": "code",
   "execution_count": 8,
   "metadata": {},
   "outputs": [],
   "source": [
    "mapM_ (\\fname -> renameFile fname (newName fname)) problems"
   ]
  },
  {
   "cell_type": "code",
   "execution_count": null,
   "metadata": {},
   "outputs": [],
   "source": []
  }
 ],
 "metadata": {
  "kernelspec": {
   "display_name": "Haskell - haskell",
   "language": "haskell",
   "name": "ihaskell_haskell"
  },
  "language_info": {
   "codemirror_mode": "Haskell",
   "file_extension": ".hs",
   "mimetype": "text/x-haskell",
   "name": "haskell",
   "pygments_lexer": "Haskell",
   "version": "8.8.3"
  }
 },
 "nbformat": 4,
 "nbformat_minor": 4
}
