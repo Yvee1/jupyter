{
 "cells": [
  {
   "cell_type": "markdown",
   "metadata": {},
   "source": [
    "# Largest prime factor"
   ]
  },
  {
   "cell_type": "code",
   "execution_count": 1,
   "metadata": {},
   "outputs": [],
   "source": [
    "number = 600851475143"
   ]
  },
  {
   "cell_type": "code",
   "execution_count": 2,
   "metadata": {},
   "outputs": [],
   "source": [
    "gsieve :: [Int] -> (Int, [Int])\n",
    "gsieve [] = (-1, [])\n",
    "gsieve (x: rest) = (x, filter ((/= 0) . (`mod` x)) rest)"
   ]
  },
  {
   "cell_type": "code",
   "execution_count": 3,
   "metadata": {},
   "outputs": [],
   "source": [
    "sieve :: Int -> [Int]\n",
    "sieve 0 = []\n",
    "sieve 1 = []\n",
    "sieve 2 = [2]\n",
    "sieve m = go [2..m]\n",
    "  where \n",
    "    go xs = \n",
    "      let (p, rest) = gsieve xs\n",
    "      in if p == -1\n",
    "        then []\n",
    "        else p : go rest"
   ]
  },
  {
   "cell_type": "code",
   "execution_count": 4,
   "metadata": {},
   "outputs": [],
   "source": [
    "headMaybe :: [a] -> Maybe a\n",
    "headMaybe [] = Nothing\n",
    "headMaybe xs = Just $ head xs"
   ]
  },
  {
   "cell_type": "code",
   "execution_count": 5,
   "metadata": {},
   "outputs": [],
   "source": [
    "smallestPrimeFactor :: Int -> Maybe Int\n",
    "smallestPrimeFactor n =\n",
    "  let primes = sieve n\n",
    "  in headMaybe [p | p <- primes, n `mod` p == 0]"
   ]
  },
  {
   "cell_type": "code",
   "execution_count": 6,
   "metadata": {},
   "outputs": [],
   "source": [
    "primeFactors :: Int -> [Int]\n",
    "primeFactors n = \n",
    "  let mp = smallestPrimeFactor n\n",
    "  in case mp of\n",
    "    Nothing -> []\n",
    "    Just p  -> \n",
    "      let n' = n `div` p\n",
    "      in p : primeFactors n'"
   ]
  },
  {
   "cell_type": "code",
   "execution_count": 7,
   "metadata": {},
   "outputs": [
    {
     "data": {
      "text/plain": [
       "6857"
      ]
     },
     "metadata": {},
     "output_type": "display_data"
    }
   ],
   "source": [
    "maximum $ primeFactors number"
   ]
  },
  {
   "cell_type": "code",
   "execution_count": null,
   "metadata": {},
   "outputs": [],
   "source": []
  }
 ],
 "metadata": {
  "kernelspec": {
   "display_name": "Haskell - haskell",
   "language": "haskell",
   "name": "ihaskell_haskell"
  },
  "language_info": {
   "codemirror_mode": "Haskell",
   "file_extension": ".hs",
   "mimetype": "text/x-haskell",
   "name": "haskell",
   "pygments_lexer": "Haskell",
   "version": "8.8.3"
  }
 },
 "nbformat": 4,
 "nbformat_minor": 4
}
